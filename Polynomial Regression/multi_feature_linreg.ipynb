{
 "cells": [
  {
   "cell_type": "code",
   "execution_count": 1,
   "id": "c7ce90ee-c04d-433a-9202-efeb0a5d5d48",
   "metadata": {},
   "outputs": [],
   "source": [
    "import math\n",
    "import numpy as np\n",
    "import pandas as pd"
   ]
  },
  {
   "cell_type": "code",
   "execution_count": 2,
   "id": "7cb4634c-12ad-4704-8f2d-89bcb8d274ee",
   "metadata": {},
   "outputs": [
    {
     "data": {
      "text/html": [
       "<div>\n",
       "<style scoped>\n",
       "    .dataframe tbody tr th:only-of-type {\n",
       "        vertical-align: middle;\n",
       "    }\n",
       "\n",
       "    .dataframe tbody tr th {\n",
       "        vertical-align: top;\n",
       "    }\n",
       "\n",
       "    .dataframe thead th {\n",
       "        text-align: right;\n",
       "    }\n",
       "</style>\n",
       "<table border=\"1\" class=\"dataframe\">\n",
       "  <thead>\n",
       "    <tr style=\"text-align: right;\">\n",
       "      <th></th>\n",
       "      <th>Size</th>\n",
       "      <th>Floors</th>\n",
       "      <th>Age</th>\n",
       "      <th>Rooms</th>\n",
       "      <th>Cost</th>\n",
       "    </tr>\n",
       "  </thead>\n",
       "  <tbody>\n",
       "    <tr>\n",
       "      <th>0</th>\n",
       "      <td>1906</td>\n",
       "      <td>2</td>\n",
       "      <td>20</td>\n",
       "      <td>4</td>\n",
       "      <td>110</td>\n",
       "    </tr>\n",
       "    <tr>\n",
       "      <th>1</th>\n",
       "      <td>2114</td>\n",
       "      <td>2</td>\n",
       "      <td>25</td>\n",
       "      <td>6</td>\n",
       "      <td>140</td>\n",
       "    </tr>\n",
       "    <tr>\n",
       "      <th>2</th>\n",
       "      <td>1532</td>\n",
       "      <td>2</td>\n",
       "      <td>29</td>\n",
       "      <td>4</td>\n",
       "      <td>95</td>\n",
       "    </tr>\n",
       "    <tr>\n",
       "      <th>3</th>\n",
       "      <td>1171</td>\n",
       "      <td>3</td>\n",
       "      <td>34</td>\n",
       "      <td>5</td>\n",
       "      <td>150</td>\n",
       "    </tr>\n",
       "    <tr>\n",
       "      <th>4</th>\n",
       "      <td>2273</td>\n",
       "      <td>1</td>\n",
       "      <td>19</td>\n",
       "      <td>4</td>\n",
       "      <td>120</td>\n",
       "    </tr>\n",
       "    <tr>\n",
       "      <th>5</th>\n",
       "      <td>1294</td>\n",
       "      <td>3</td>\n",
       "      <td>36</td>\n",
       "      <td>3</td>\n",
       "      <td>160</td>\n",
       "    </tr>\n",
       "    <tr>\n",
       "      <th>6</th>\n",
       "      <td>1732</td>\n",
       "      <td>1</td>\n",
       "      <td>29</td>\n",
       "      <td>3</td>\n",
       "      <td>100</td>\n",
       "    </tr>\n",
       "  </tbody>\n",
       "</table>\n",
       "</div>"
      ],
      "text/plain": [
       "   Size  Floors  Age  Rooms  Cost\n",
       "0  1906       2   20      4   110\n",
       "1  2114       2   25      6   140\n",
       "2  1532       2   29      4    95\n",
       "3  1171       3   34      5   150\n",
       "4  2273       1   19      4   120\n",
       "5  1294       3   36      3   160\n",
       "6  1732       1   29      3   100"
      ]
     },
     "execution_count": 2,
     "metadata": {},
     "output_type": "execute_result"
    }
   ],
   "source": [
    "dict={\"Size\":[1906,2114,1532,1171,2273,1294,1732],\"Floors\":[2,2,2,3,1,3,1],\"Age\":[20,25,29,34,19,36,29],\"Rooms\":[4,6,4,5,4,3,3],\"Cost\":[110,140,95,150,120,160,100]}\n",
    "df=pd.DataFrame(dict)\n",
    "df"
   ]
  },
  {
   "cell_type": "code",
   "execution_count": 3,
   "id": "ddd888d3-c63a-4765-8463-4ffa8ab1fef4",
   "metadata": {},
   "outputs": [
    {
     "data": {
      "text/plain": [
       "(array([110, 140,  95, 150, 120, 160, 100], dtype=int64),\n",
       " array([[1906,    2,   20,    4],\n",
       "        [2114,    2,   25,    6],\n",
       "        [1532,    2,   29,    4],\n",
       "        [1171,    3,   34,    5],\n",
       "        [2273,    1,   19,    4],\n",
       "        [1294,    3,   36,    3],\n",
       "        [1732,    1,   29,    3]], dtype=int64))"
      ]
     },
     "execution_count": 3,
     "metadata": {},
     "output_type": "execute_result"
    }
   ],
   "source": [
    "\n",
    "y=np.array(df['Cost'])\n",
    "df2=df.drop('Cost',axis=1)\n",
    "x=df2.to_numpy()\n",
    "\n",
    "y,x"
   ]
  },
  {
   "cell_type": "code",
   "execution_count": 4,
   "id": "0dfee5c3-b782-4ff3-81c4-ca720d3f2df1",
   "metadata": {},
   "outputs": [],
   "source": [
    "def compute_cost(x,y,w,b):\n",
    "    m,n=x.shape\n",
    "    dj_dw=np.zeros(n)\n",
    "    dj_db=0\n",
    "\n",
    "    for i in range(m):\n",
    "        err=(np.dot(x[i],w)+b)-y[i]\n",
    "        for j in range(n):\n",
    "            dj_dw[j]=dj_dw[j]+err*x[i,j]\n",
    "        dj_db=dj_db+err\n",
    "    dj_dw=dj_dw/m\n",
    "    dj_bb=dj_db/m\n",
    "\n",
    "    return dj_dw,dj_db"
   ]
  },
  {
   "cell_type": "code",
   "execution_count": 5,
   "id": "19a08e4a-07af-4a44-9b1b-d754d221258f",
   "metadata": {},
   "outputs": [],
   "source": [
    "def gradient_descent(w,b,alpha):\n",
    "    for i in range(1000):\n",
    "        dj_dw,dj_db=compute_cost(x,y,w,b)\n",
    "        w=w-alpha*dj_dw\n",
    "        b=b-alpha*dj_db\n",
    "    return w,b"
   ]
  },
  {
   "cell_type": "code",
   "execution_count": 6,
   "id": "fc069a58-c95f-4d8d-a0a2-9fd2cd0c1928",
   "metadata": {},
   "outputs": [
    {
     "data": {
      "text/plain": [
       "(array([0.06525752, 0.02108508, 0.20537432, 0.01565187]), 0.026196098709441947)"
      ]
     },
     "execution_count": 6,
     "metadata": {},
     "output_type": "execute_result"
    }
   ],
   "source": [
    "w_init=np.zeros(x.shape[1])\n",
    "b_init=0\n",
    "alpha=5.0e-7\n",
    "w,b=gradient_descent(w_init,b_init,alpha)\n",
    "w,b"
   ]
  },
  {
   "cell_type": "code",
   "execution_count": 7,
   "id": "3a1f6355-13f6-49cf-b937-5bac049f3803",
   "metadata": {},
   "outputs": [
    {
     "name": "stdout",
     "output_type": "stream",
     "text": [
      "Estimate price for house :-\n"
     ]
    },
    {
     "name": "stdin",
     "output_type": "stream",
     "text": [
      "Size 2100\n",
      "Floors 3\n",
      "Age 20\n",
      "Rooms 6\n"
     ]
    },
    {
     "name": "stdout",
     "output_type": "stream",
     "text": [
      "Cost of the House is 141.33164552264617\n"
     ]
    }
   ],
   "source": [
    "print(\"Estimate price for house :-\")\n",
    "f1=int(input(\"Size\"))\n",
    "f2=int(input(\"Floors\"))\n",
    "f3=int(input(\"Age\"))\n",
    "f4=int(input(\"Rooms\"))\n",
    "f=[f1,f2,f3,f4]\n",
    "print(f\"Cost of the House is {np.dot(w,f)+b}\")"
   ]
  }
 ],
 "metadata": {
  "kernelspec": {
   "display_name": "Python 3 (ipykernel)",
   "language": "python",
   "name": "python3"
  },
  "language_info": {
   "codemirror_mode": {
    "name": "ipython",
    "version": 3
   },
   "file_extension": ".py",
   "mimetype": "text/x-python",
   "name": "python",
   "nbconvert_exporter": "python",
   "pygments_lexer": "ipython3",
   "version": "3.12.1"
  }
 },
 "nbformat": 4,
 "nbformat_minor": 5
}
