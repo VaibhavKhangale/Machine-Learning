{
 "cells": [
  {
   "cell_type": "code",
   "execution_count": 1,
   "id": "3ca80f54-f8c0-4e44-9435-9ca1ca5b6dc2",
   "metadata": {},
   "outputs": [],
   "source": [
    "import numpy as np\n",
    "import pandas as pd\n",
    "import tensorflow as tf\n",
    "from tensorflow.keras.layers import Dense\n",
    "from tensorflow.keras.models import Sequential"
   ]
  },
  {
   "cell_type": "code",
   "execution_count": 2,
   "id": "9463c164-7b97-4893-9cd5-8e53609181b6",
   "metadata": {},
   "outputs": [
    {
     "name": "stdout",
     "output_type": "stream",
     "text": [
      "english    int32\n",
      "maths      int32\n",
      "grade      int32\n",
      "dtype: object\n"
     ]
    }
   ],
   "source": [
    "df=pd.read_csv('grades_data.csv',dtype={'english':int,'maths':int,'grade':int})\n",
    "print(df.dtypes)"
   ]
  },
  {
   "cell_type": "code",
   "execution_count": 3,
   "id": "474c4eca-c256-4f23-948e-d4687e990312",
   "metadata": {},
   "outputs": [
    {
     "data": {
      "text/plain": [
       "array([[67, 91],\n",
       "       [34, 79],\n",
       "       [76, 61],\n",
       "       [54, 55],\n",
       "       [98, 86],\n",
       "       [49, 73],\n",
       "       [77, 24],\n",
       "       [61, 10],\n",
       "       [32, 67],\n",
       "       [87, 51],\n",
       "       [63, 43],\n",
       "       [39, 39],\n",
       "       [43, 16],\n",
       "       [55, 97],\n",
       "       [18, 81],\n",
       "       [ 8, 36],\n",
       "       [90,  3],\n",
       "       [57, 77],\n",
       "       [71, 61],\n",
       "       [99, 83]])"
      ]
     },
     "execution_count": 3,
     "metadata": {},
     "output_type": "execute_result"
    }
   ],
   "source": [
    "x1=np.array(df['english'])\n",
    "x2=np.array(df['maths'])\n",
    "X=np.stack((x1,x2),axis=1)\n",
    "X"
   ]
  },
  {
   "cell_type": "code",
   "execution_count": 4,
   "id": "5d59797e-62df-4391-98f0-e6b7b41f2b3f",
   "metadata": {},
   "outputs": [
    {
     "data": {
      "text/plain": [
       "array([2, 3, 2, 3, 1, 2, 3, 4, 3, 2, 3, 4, 4, 2, 3, 4, 3, 2, 2, 1])"
      ]
     },
     "execution_count": 4,
     "metadata": {},
     "output_type": "execute_result"
    }
   ],
   "source": [
    "y=np.array(df['grade'])\n",
    "y"
   ]
  },
  {
   "cell_type": "code",
   "execution_count": 5,
   "id": "f998aed2-14cd-4a7b-b302-fcd3fd6d5c5b",
   "metadata": {},
   "outputs": [],
   "source": [
    "layer1=Dense(10,activation='relu',name=\"layer1\")\n",
    "layer2=Dense(10,activation='relu',name=\"layer2\")\n",
    "layer3=Dense(5,activation='softmax',name=\"layer3\")"
   ]
  },
  {
   "cell_type": "code",
   "execution_count": 6,
   "id": "7baf62a9-3a99-47da-86eb-4a6cb3c2bd81",
   "metadata": {},
   "outputs": [],
   "source": [
    "model=Sequential([layer1,layer2,layer3])"
   ]
  },
  {
   "cell_type": "code",
   "execution_count": 7,
   "id": "5b7ecbaa-c13a-4212-8427-b3c0e4f2f950",
   "metadata": {},
   "outputs": [],
   "source": [
    "model.compile(optimizer='adam',loss='sparse_categorical_crossentropy')"
   ]
  },
  {
   "cell_type": "code",
   "execution_count": 8,
   "id": "9630566e-36a5-46a1-a088-dcb82d0c3642",
   "metadata": {},
   "outputs": [
    {
     "name": "stdout",
     "output_type": "stream",
     "text": [
      "Epoch 1/10\n",
      "\u001b[1m1/1\u001b[0m \u001b[32m━━━━━━━━━━━━━━━━━━━━\u001b[0m\u001b[37m\u001b[0m \u001b[1m2s\u001b[0m 2s/step - loss: 42.6492\n",
      "Epoch 2/10\n",
      "\u001b[1m1/1\u001b[0m \u001b[32m━━━━━━━━━━━━━━━━━━━━\u001b[0m\u001b[37m\u001b[0m \u001b[1m0s\u001b[0m 82ms/step - loss: 42.0690\n",
      "Epoch 3/10\n",
      "\u001b[1m1/1\u001b[0m \u001b[32m━━━━━━━━━━━━━━━━━━━━\u001b[0m\u001b[37m\u001b[0m \u001b[1m0s\u001b[0m 79ms/step - loss: 41.4926\n",
      "Epoch 4/10\n",
      "\u001b[1m1/1\u001b[0m \u001b[32m━━━━━━━━━━━━━━━━━━━━\u001b[0m\u001b[37m\u001b[0m \u001b[1m0s\u001b[0m 76ms/step - loss: 40.9209\n",
      "Epoch 5/10\n",
      "\u001b[1m1/1\u001b[0m \u001b[32m━━━━━━━━━━━━━━━━━━━━\u001b[0m\u001b[37m\u001b[0m \u001b[1m0s\u001b[0m 77ms/step - loss: 40.3617\n",
      "Epoch 6/10\n",
      "\u001b[1m1/1\u001b[0m \u001b[32m━━━━━━━━━━━━━━━━━━━━\u001b[0m\u001b[37m\u001b[0m \u001b[1m0s\u001b[0m 79ms/step - loss: 39.8083\n",
      "Epoch 7/10\n",
      "\u001b[1m1/1\u001b[0m \u001b[32m━━━━━━━━━━━━━━━━━━━━\u001b[0m\u001b[37m\u001b[0m \u001b[1m0s\u001b[0m 82ms/step - loss: 39.2589\n",
      "Epoch 8/10\n",
      "\u001b[1m1/1\u001b[0m \u001b[32m━━━━━━━━━━━━━━━━━━━━\u001b[0m\u001b[37m\u001b[0m \u001b[1m0s\u001b[0m 77ms/step - loss: 38.7204\n",
      "Epoch 9/10\n",
      "\u001b[1m1/1\u001b[0m \u001b[32m━━━━━━━━━━━━━━━━━━━━\u001b[0m\u001b[37m\u001b[0m \u001b[1m0s\u001b[0m 75ms/step - loss: 38.1994\n",
      "Epoch 10/10\n",
      "\u001b[1m1/1\u001b[0m \u001b[32m━━━━━━━━━━━━━━━━━━━━\u001b[0m\u001b[37m\u001b[0m \u001b[1m0s\u001b[0m 74ms/step - loss: 37.6886\n"
     ]
    },
    {
     "data": {
      "text/plain": [
       "<keras.src.callbacks.history.History at 0x23bb7b6fe30>"
      ]
     },
     "execution_count": 8,
     "metadata": {},
     "output_type": "execute_result"
    }
   ],
   "source": [
    "model.fit(X,y,epochs=10)"
   ]
  },
  {
   "cell_type": "code",
   "execution_count": 13,
   "id": "d2ed9205-1b03-4c04-8bad-a1cac1ac7bc2",
   "metadata": {},
   "outputs": [
    {
     "name": "stdout",
     "output_type": "stream",
     "text": [
      "\u001b[1m1/1\u001b[0m \u001b[32m━━━━━━━━━━━━━━━━━━━━\u001b[0m\u001b[37m\u001b[0m \u001b[1m0s\u001b[0m 76ms/step\n"
     ]
    }
   ],
   "source": [
    "inp=np.array([[92,43],[11,77]])\n",
    "ans=model.predict(inp)"
   ]
  },
  {
   "cell_type": "code",
   "execution_count": 14,
   "id": "6bd883b8-0dd4-4ceb-82de-24c9c3ede7e1",
   "metadata": {},
   "outputs": [
    {
     "data": {
      "text/plain": [
       "array([[1.7824506e-20, 1.5526912e-33, 3.6790218e-22, 1.0000000e+00,\n",
       "        2.9099162e-35],\n",
       "       [6.1380359e-11, 9.7830654e-27, 3.2070377e-16, 1.0000000e+00,\n",
       "        6.8572193e-35]], dtype=float32)"
      ]
     },
     "execution_count": 14,
     "metadata": {},
     "output_type": "execute_result"
    }
   ],
   "source": [
    "ans"
   ]
  },
  {
   "cell_type": "code",
   "execution_count": 18,
   "id": "fd5cf85c-7e97-42c0-9b6d-047c145098fc",
   "metadata": {},
   "outputs": [],
   "source": [
    "cls=np.argmax(ans,axis=1)"
   ]
  },
  {
   "cell_type": "code",
   "execution_count": 19,
   "id": "efc7010d-7d2f-4dfa-8711-c814f6ffa83d",
   "metadata": {},
   "outputs": [
    {
     "data": {
      "text/plain": [
       "array([3, 3], dtype=int64)"
      ]
     },
     "execution_count": 19,
     "metadata": {},
     "output_type": "execute_result"
    }
   ],
   "source": [
    "cls"
   ]
  },
  {
   "cell_type": "code",
   "execution_count": null,
   "id": "0bb78703-071e-4f61-b106-17ad972d24c0",
   "metadata": {},
   "outputs": [],
   "source": []
  }
 ],
 "metadata": {
  "kernelspec": {
   "display_name": "Python 3 (ipykernel)",
   "language": "python",
   "name": "python3"
  },
  "language_info": {
   "codemirror_mode": {
    "name": "ipython",
    "version": 3
   },
   "file_extension": ".py",
   "mimetype": "text/x-python",
   "name": "python",
   "nbconvert_exporter": "python",
   "pygments_lexer": "ipython3",
   "version": "3.12.1"
  }
 },
 "nbformat": 4,
 "nbformat_minor": 5
}
